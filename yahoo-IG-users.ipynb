{
 "cells": [
  {
   "cell_type": "code",
   "execution_count": 3,
   "metadata": {
    "collapsed": true
   },
   "outputs": [],
   "source": [
    "import pandas as pd\n",
    "import os"
   ]
  },
  {
   "cell_type": "markdown",
   "metadata": {},
   "source": [
    "#### Add local paths to cluster data"
   ]
  },
  {
   "cell_type": "code",
   "execution_count": 71,
   "metadata": {
    "collapsed": true
   },
   "outputs": [],
   "source": [
    "PRE = \"/Users/damoncrockett/Desktop/cities_20k/\""
   ]
  },
  {
   "cell_type": "code",
   "execution_count": 72,
   "metadata": {
    "collapsed": true
   },
   "outputs": [],
   "source": [
    "data = \"/Users/damoncrockett/Desktop/cities_20k/120K_Instagram_images_data.txt\""
   ]
  },
  {
   "cell_type": "code",
   "execution_count": 73,
   "metadata": {
    "collapsed": true
   },
   "outputs": [],
   "source": [
    "df = pd.read_csv(data)\n",
    "n = len(df.index)"
   ]
  },
  {
   "cell_type": "code",
   "execution_count": 75,
   "metadata": {
    "collapsed": false
   },
   "outputs": [
    {
     "name": "stderr",
     "output_type": "stream",
     "text": [
      "/Library/Python/2.7/site-packages/IPython/kernel/__main__.py:1: SettingWithCopyWarning: \n",
      "A value is trying to be set on a copy of a slice from a DataFrame\n",
      "\n",
      "See the the caveats in the documentation: http://pandas.pydata.org/pandas-docs/stable/indexing.html#indexing-view-versus-copy\n",
      "  if __name__ == '__main__':\n"
     ]
    }
   ],
   "source": [
    "df.city[df.city=='sao_paulo'] = 'sao'"
   ]
  },
  {
   "cell_type": "code",
   "execution_count": 76,
   "metadata": {
    "collapsed": false
   },
   "outputs": [],
   "source": [
    "# takes a few minutes to run\n",
    "\n",
    "local_path = []\n",
    "for i in range(n):\n",
    "    local_path.append(PRE+df.city.loc[i]+\"_20k/\"+df.just_filename.loc[i])\n",
    "df['local_path'] = local_path\n",
    "df.to_csv(data,index=False)    "
   ]
  },
  {
   "cell_type": "markdown",
   "metadata": {},
   "source": [
    "#### Now making square montage of every cluster (there should be 92)"
   ]
  },
  {
   "cell_type": "code",
   "execution_count": 77,
   "metadata": {
    "collapsed": true
   },
   "outputs": [],
   "source": [
    "from PIL import Image\n",
    "import numpy as np"
   ]
  },
  {
   "cell_type": "code",
   "execution_count": 78,
   "metadata": {
    "collapsed": true
   },
   "outputs": [],
   "source": [
    "thumb_side = 64"
   ]
  },
  {
   "cell_type": "code",
   "execution_count": 79,
   "metadata": {
    "collapsed": false
   },
   "outputs": [],
   "source": [
    "users = pd.Series(tmp.groupby('username').size())\n",
    "users.sort(ascending=False)\n",
    "users = users[:65]\n",
    "users = list(users.index)"
   ]
  },
  {
   "cell_type": "code",
   "execution_count": 80,
   "metadata": {
    "collapsed": false
   },
   "outputs": [],
   "source": [
    "for user in users:\n",
    "    tmp = df[df.username==user]\n",
    "    tmp.reset_index(drop=True,inplace=True)\n",
    "    city = tmp.city.loc[0]\n",
    "    n = len(tmp.index)\n",
    "        \n",
    "    side = int(round(np.sqrt(n)) - 1)\n",
    "    if side > 0:\n",
    "        m = side * side\n",
    "        tmp = tmp[:m]\n",
    "        n = len(tmp.index)\n",
    "        tmp.reset_index(drop=True,inplace=True)\n",
    "        \n",
    "        tmp[\"y_coord\"] = list(np.repeat(range(side),side) * thumb_side)\n",
    "        exes = list(range(side)) * side\n",
    "        tmp[\"x_coord\"] = [thumb_side * item for item in exes]\n",
    "        \n",
    "        canvas = Image.new('RGB',(side * thumb_side, side * thumb_side),(50,50,50))\n",
    "        for i in range(n):\n",
    "            thumb = Image.open(tmp.local_path.loc[i])\n",
    "            thumb.thumbnail((thumb_side,thumb_side),Image.ANTIALIAS)\n",
    "            canvas.paste(thumb,(tmp.x_coord.loc[i],tmp.y_coord.loc[i]))\n",
    "    \n",
    "        outfile = PRE+\"viz/user/\"+city+\"_\"+user+\".png\"\n",
    "        canvas.save(outfile)"
   ]
  }
 ],
 "metadata": {
  "kernelspec": {
   "display_name": "Python 2",
   "language": "python",
   "name": "python2"
  },
  "language_info": {
   "codemirror_mode": {
    "name": "ipython",
    "version": 2
   },
   "file_extension": ".py",
   "mimetype": "text/x-python",
   "name": "python",
   "nbconvert_exporter": "python",
   "pygments_lexer": "ipython2",
   "version": "2.7.6"
  }
 },
 "nbformat": 4,
 "nbformat_minor": 0
}
