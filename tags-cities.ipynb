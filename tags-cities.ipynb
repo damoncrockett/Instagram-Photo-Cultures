{
 "cells": [
  {
   "cell_type": "code",
   "execution_count": 160,
   "metadata": {
    "collapsed": true
   },
   "outputs": [],
   "source": [
    "import pandas as pd\n",
    "import numpy as np"
   ]
  },
  {
   "cell_type": "markdown",
   "metadata": {
    "collapsed": true
   },
   "source": [
    "####Create table with every photo"
   ]
  },
  {
   "cell_type": "code",
   "execution_count": 161,
   "metadata": {
    "collapsed": true
   },
   "outputs": [],
   "source": [
    "DIR = \"/Users/damoncrockett/Desktop/cities_20k/yahoo/\""
   ]
  },
  {
   "cell_type": "code",
   "execution_count": 162,
   "metadata": {
    "collapsed": true
   },
   "outputs": [],
   "source": [
    "import glob\n",
    "import os"
   ]
  },
  {
   "cell_type": "code",
   "execution_count": 163,
   "metadata": {
    "collapsed": false
   },
   "outputs": [
    {
     "name": "stdout",
     "output_type": "stream",
     "text": [
      "bangkok\n",
      "berlin\n",
      "moscow\n",
      "sao\n",
      "tokyo\n"
     ]
    }
   ],
   "source": [
    "for file in glob.glob(os.path.join(DIR,\"*.tsv\")):\n",
    "    print os.path.basename(file[:-15])"
   ]
  },
  {
   "cell_type": "code",
   "execution_count": 164,
   "metadata": {
    "collapsed": false
   },
   "outputs": [
    {
     "data": {
      "text/plain": [
       "['tokyo', 'tokyo', 'tokyo', 'tokyo', 'tokyo']"
      ]
     },
     "execution_count": 164,
     "metadata": {},
     "output_type": "execute_result"
    }
   ],
   "source": [
    "[os.path.basename(file[:-15])] * 5"
   ]
  },
  {
   "cell_type": "markdown",
   "metadata": {},
   "source": [
    "Add city names to df"
   ]
  },
  {
   "cell_type": "code",
   "execution_count": 165,
   "metadata": {
    "collapsed": true
   },
   "outputs": [],
   "source": [
    "for file in glob.glob(os.path.join(DIR,\"*.tsv\")):\n",
    "    tmp = pd.read_csv(file)\n",
    "    n = len(tmp)\n",
    "    l = [os.path.basename(file[:-15])] * n\n",
    "    tmp['IG_city_name'] = l\n",
    "    tmp.to_csv(file,index=False)"
   ]
  },
  {
   "cell_type": "code",
   "execution_count": 166,
   "metadata": {
    "collapsed": true
   },
   "outputs": [],
   "source": [
    "df = pd.read_csv(file)"
   ]
  },
  {
   "cell_type": "code",
   "execution_count": 167,
   "metadata": {
    "collapsed": false
   },
   "outputs": [
    {
     "data": {
      "text/plain": [
       "Index([u'ad_id', u'Contrast', u'Symmetry', u'Top/Left Object',\n",
       "       u'Middle/Left Object', u'Bottom/Left Object', u'Top/Center Object',\n",
       "       u'Middle/Center Object', u'Bottom/Center Object', u'Top/Right Object', \n",
       "       ...\n",
       "       u'jacket', u'purple', u'beverage', u'apparel', u'husky', u'car rally',\n",
       "       u'baked', u'flowering tree', u'IG_city_name', u'local_path'],\n",
       "      dtype='object', length=1069)"
      ]
     },
     "execution_count": 167,
     "metadata": {},
     "output_type": "execute_result"
    }
   ],
   "source": [
    "df.columns"
   ]
  },
  {
   "cell_type": "markdown",
   "metadata": {},
   "source": [
    "Add local paths to df"
   ]
  },
  {
   "cell_type": "code",
   "execution_count": 168,
   "metadata": {
    "collapsed": true
   },
   "outputs": [],
   "source": [
    "BASE = \"/Users/damoncrockett/Desktop/cities_20k/\""
   ]
  },
  {
   "cell_type": "code",
   "execution_count": 169,
   "metadata": {
    "collapsed": false
   },
   "outputs": [],
   "source": [
    "for file in glob.glob(os.path.join(DIR,\"*.tsv\")):\n",
    "    tmp = pd.read_csv(file)\n",
    "    n = len(tmp.index)\n",
    "    local_path = []\n",
    "    for i in range(n):\n",
    "        local_path.append(BASE+os.path.basename(file).split(\"_\")[0]+\"_20k/\"+tmp.ad_id.loc[i]+\".jpg\")\n",
    "    tmp['local_path'] = local_path\n",
    "    tmp.to_csv(file,index=False)"
   ]
  },
  {
   "cell_type": "markdown",
   "metadata": {},
   "source": [
    "Single file"
   ]
  },
  {
   "cell_type": "code",
   "execution_count": 170,
   "metadata": {
    "collapsed": false
   },
   "outputs": [],
   "source": [
    "counter = -1\n",
    "for file in glob.glob(os.path.join(DIR,\"*.tsv\")):\n",
    "    counter +=1\n",
    "    if counter == 0:\n",
    "        tmp = pd.read_csv(file)\n",
    "    else:\n",
    "        tmp = tmp.append(pd.read_csv(file))\n",
    "tmp.to_csv(\"./all.csv\",index=False)"
   ]
  },
  {
   "cell_type": "code",
   "execution_count": 171,
   "metadata": {
    "collapsed": true
   },
   "outputs": [],
   "source": [
    "df = pd.read_csv(\"./all.csv\")"
   ]
  },
  {
   "cell_type": "code",
   "execution_count": 172,
   "metadata": {
    "collapsed": false
   },
   "outputs": [
    {
     "name": "stdout",
     "output_type": "stream",
     "text": [
      "<class 'pandas.core.frame.DataFrame'>\n",
      "Int64Index: 100000 entries, 0 to 99999\n",
      "Columns: 1069 entries, ad_id to local_path\n",
      "dtypes: float64(1066), object(3)\n",
      "memory usage: 816.3+ MB\n"
     ]
    }
   ],
   "source": [
    "df.info()"
   ]
  },
  {
   "cell_type": "markdown",
   "metadata": {},
   "source": [
    "Find high-freq tags"
   ]
  },
  {
   "cell_type": "code",
   "execution_count": 173,
   "metadata": {
    "collapsed": false
   },
   "outputs": [],
   "source": [
    "l = list(df.columns)[55:1067]"
   ]
  },
  {
   "cell_type": "code",
   "execution_count": 174,
   "metadata": {
    "collapsed": false
   },
   "outputs": [],
   "source": [
    "tag = []\n",
    "ct = []\n",
    "for item in l:\n",
    "    tag.append(item)\n",
    "    # 80% because that's what Miriam used\n",
    "    tmp = np.mean(d[item] > 0.8) * 100000\n",
    "    ct.append(tmp)"
   ]
  },
  {
   "cell_type": "code",
   "execution_count": 175,
   "metadata": {
    "collapsed": true
   },
   "outputs": [],
   "source": [
    "tmp = pd.DataFrame(tag, columns = ['tag'])"
   ]
  },
  {
   "cell_type": "code",
   "execution_count": 176,
   "metadata": {
    "collapsed": true
   },
   "outputs": [],
   "source": [
    "tmp['ct'] = ct"
   ]
  },
  {
   "cell_type": "code",
   "execution_count": 177,
   "metadata": {
    "collapsed": false
   },
   "outputs": [],
   "source": [
    "tmp.ct = tmp.ct.apply(round)"
   ]
  },
  {
   "cell_type": "code",
   "execution_count": 178,
   "metadata": {
    "collapsed": false
   },
   "outputs": [],
   "source": [
    "tmp['per'] = tmp.ct / 5"
   ]
  },
  {
   "cell_type": "code",
   "execution_count": 179,
   "metadata": {
    "collapsed": false
   },
   "outputs": [
    {
     "data": {
      "text/plain": [
       "13.0"
      ]
     },
     "execution_count": 179,
     "metadata": {},
     "output_type": "execute_result"
    }
   ],
   "source": [
    "np.mean(tmp.per > 200) * 1012"
   ]
  },
  {
   "cell_type": "code",
   "execution_count": 180,
   "metadata": {
    "collapsed": false
   },
   "outputs": [
    {
     "data": {
      "text/plain": [
       "22.0"
      ]
     },
     "execution_count": 180,
     "metadata": {},
     "output_type": "execute_result"
    }
   ],
   "source": [
    "np.mean(tmp.per > 100) * 1012"
   ]
  },
  {
   "cell_type": "code",
   "execution_count": 181,
   "metadata": {
    "collapsed": false
   },
   "outputs": [
    {
     "data": {
      "text/plain": [
       "39.0"
      ]
     },
     "execution_count": 181,
     "metadata": {},
     "output_type": "execute_result"
    }
   ],
   "source": [
    "np.mean(tmp.per > 50) * 1012"
   ]
  },
  {
   "cell_type": "code",
   "execution_count": 182,
   "metadata": {
    "collapsed": false
   },
   "outputs": [
    {
     "data": {
      "text/plain": [
       "95.0"
      ]
     },
     "execution_count": 182,
     "metadata": {},
     "output_type": "execute_result"
    }
   ],
   "source": [
    "np.mean(tmp.per > 25) * 1012"
   ]
  },
  {
   "cell_type": "code",
   "execution_count": 183,
   "metadata": {
    "collapsed": true
   },
   "outputs": [],
   "source": [
    "slist = tmp[tmp.per >= 25]"
   ]
  },
  {
   "cell_type": "code",
   "execution_count": 184,
   "metadata": {
    "collapsed": false
   },
   "outputs": [
    {
     "data": {
      "text/plain": [
       "95"
      ]
     },
     "execution_count": 184,
     "metadata": {},
     "output_type": "execute_result"
    }
   ],
   "source": [
    "len(slist)"
   ]
  },
  {
   "cell_type": "code",
   "execution_count": 206,
   "metadata": {
    "collapsed": false
   },
   "outputs": [
    {
     "data": {
      "text/html": [
       "<div>\n",
       "<table border=\"1\" class=\"dataframe\">\n",
       "  <thead>\n",
       "    <tr style=\"text-align: right;\">\n",
       "      <th></th>\n",
       "      <th>tag</th>\n",
       "      <th>ct</th>\n",
       "      <th>per</th>\n",
       "    </tr>\n",
       "  </thead>\n",
       "  <tbody>\n",
       "    <tr>\n",
       "      <th>0</th>\n",
       "      <td>blackandwhite</td>\n",
       "      <td>4961</td>\n",
       "      <td>992.2</td>\n",
       "    </tr>\n",
       "    <tr>\n",
       "      <th>1</th>\n",
       "      <td>show</td>\n",
       "      <td>177</td>\n",
       "      <td>35.4</td>\n",
       "    </tr>\n",
       "    <tr>\n",
       "      <th>2</th>\n",
       "      <td>groupshot</td>\n",
       "      <td>1400</td>\n",
       "      <td>280.0</td>\n",
       "    </tr>\n",
       "    <tr>\n",
       "      <th>3</th>\n",
       "      <td>clothes</td>\n",
       "      <td>215</td>\n",
       "      <td>43.0</td>\n",
       "    </tr>\n",
       "    <tr>\n",
       "      <th>4</th>\n",
       "      <td>quilt</td>\n",
       "      <td>130</td>\n",
       "      <td>26.0</td>\n",
       "    </tr>\n",
       "  </tbody>\n",
       "</table>\n",
       "</div>"
      ],
      "text/plain": [
       "             tag    ct    per\n",
       "0  blackandwhite  4961  992.2\n",
       "1           show   177   35.4\n",
       "2      groupshot  1400  280.0\n",
       "3        clothes   215   43.0\n",
       "4          quilt   130   26.0"
      ]
     },
     "execution_count": 206,
     "metadata": {},
     "output_type": "execute_result"
    }
   ],
   "source": [
    "slist.head()"
   ]
  },
  {
   "cell_type": "code",
   "execution_count": 186,
   "metadata": {
    "collapsed": true
   },
   "outputs": [],
   "source": [
    "slist.reset_index(drop=True,inplace=True)"
   ]
  },
  {
   "cell_type": "markdown",
   "metadata": {},
   "source": [
    "Subset 'df' to these columns, plus the style columns"
   ]
  },
  {
   "cell_type": "code",
   "execution_count": 187,
   "metadata": {
    "collapsed": true
   },
   "outputs": [],
   "source": [
    "tags = list(slist.tag)"
   ]
  },
  {
   "cell_type": "code",
   "execution_count": 188,
   "metadata": {
    "collapsed": false
   },
   "outputs": [],
   "source": [
    "style = list(df.columns[:55])"
   ]
  },
  {
   "cell_type": "code",
   "execution_count": 189,
   "metadata": {
    "collapsed": true
   },
   "outputs": [],
   "source": [
    "last = ['IG_city_name','local_path']"
   ]
  },
  {
   "cell_type": "code",
   "execution_count": 190,
   "metadata": {
    "collapsed": true
   },
   "outputs": [],
   "source": [
    "cols = last+style+tags"
   ]
  },
  {
   "cell_type": "code",
   "execution_count": 191,
   "metadata": {
    "collapsed": false
   },
   "outputs": [],
   "source": [
    "sub = df[cols]"
   ]
  },
  {
   "cell_type": "code",
   "execution_count": 192,
   "metadata": {
    "collapsed": false
   },
   "outputs": [
    {
     "name": "stdout",
     "output_type": "stream",
     "text": [
      "<class 'pandas.core.frame.DataFrame'>\n",
      "Int64Index: 100000 entries, 0 to 99999\n",
      "Columns: 152 entries, IG_city_name to beverage\n",
      "dtypes: float64(149), object(3)\n",
      "memory usage: 116.7+ MB\n"
     ]
    }
   ],
   "source": [
    "sub.info()"
   ]
  },
  {
   "cell_type": "markdown",
   "metadata": {},
   "source": [
    "Because R does not play well with whitespace, we will get rid of it"
   ]
  },
  {
   "cell_type": "code",
   "execution_count": 194,
   "metadata": {
    "collapsed": false
   },
   "outputs": [],
   "source": [
    "tmp = list(slist.tag)\n",
    "tmp = [item.translate(None,\" \") for item in tmp]\n",
    "slist.tag = tmp"
   ]
  },
  {
   "cell_type": "code",
   "execution_count": 195,
   "metadata": {
    "collapsed": true
   },
   "outputs": [],
   "source": [
    "tmp = list(sub.columns)\n",
    "tmp = [item.translate(None,\" /)(\") for item in tmp]\n",
    "sub.columns = tmp"
   ]
  },
  {
   "cell_type": "code",
   "execution_count": 196,
   "metadata": {
    "collapsed": true
   },
   "outputs": [],
   "source": [
    "slist.to_csv(\"./tags_by_features.csv\",index=False)"
   ]
  },
  {
   "cell_type": "code",
   "execution_count": 197,
   "metadata": {
    "collapsed": true
   },
   "outputs": [],
   "source": [
    "sub.to_csv(\"./tags_by_features_data.csv\",index=False)"
   ]
  },
  {
   "cell_type": "markdown",
   "metadata": {},
   "source": [
    "####Sending to R for variance and ANOVA..."
   ]
  },
  {
   "cell_type": "markdown",
   "metadata": {},
   "source": [
    "####...and we're back"
   ]
  },
  {
   "cell_type": "code",
   "execution_count": 212,
   "metadata": {
    "collapsed": false
   },
   "outputs": [],
   "source": [
    "var_table = pd.read_csv(\"./var_table.csv\")\n",
    "del var_table['Unnamed: 0']"
   ]
  },
  {
   "cell_type": "code",
   "execution_count": 213,
   "metadata": {
    "collapsed": true
   },
   "outputs": [],
   "source": [
    "rsq_table = pd.read_csv(\"./var_table_rsq.csv\")\n",
    "del rsq_table['Unnamed: 0']"
   ]
  },
  {
   "cell_type": "code",
   "execution_count": 225,
   "metadata": {
    "collapsed": false
   },
   "outputs": [],
   "source": [
    "features = list(rsq_table.columns[:54])"
   ]
  },
  {
   "cell_type": "markdown",
   "metadata": {},
   "source": [
    "####Now we can look for high city-variance features by object tag"
   ]
  },
  {
   "cell_type": "code",
   "execution_count": 302,
   "metadata": {
    "collapsed": true
   },
   "outputs": [],
   "source": [
    "cutoff = 0.1\n",
    "top = 0.4"
   ]
  },
  {
   "cell_type": "code",
   "execution_count": 303,
   "metadata": {
    "collapsed": false
   },
   "outputs": [],
   "source": [
    "df = pd.DataFrame()\n",
    "n = len(rsq_table)\n",
    "all_feats = []\n",
    "for i in range(n):\n",
    "    feats = []\n",
    "    for feature in features:\n",
    "        tmp = rsq_table[feature].loc[i]\n",
    "        if cutoff <= tmp < top:\n",
    "            feats.append(feature)\n",
    "    all_feats.append(feats)\n",
    "df['tag'] = rsq_table.tag\n",
    "df['feats'] = all_feats"
   ]
  },
  {
   "cell_type": "code",
   "execution_count": 263,
   "metadata": {
    "collapsed": false
   },
   "outputs": [],
   "source": [
    "# Our general approach is this:\n",
    "# We want to make, for each tag/feature\n",
    "# combo in our set, a visualization \n",
    "# with 5 clusters, one for each city.\n",
    "# They can be combined later into \n",
    "# larger plots, using GIMP."
   ]
  },
  {
   "cell_type": "code",
   "execution_count": 304,
   "metadata": {
    "collapsed": false
   },
   "outputs": [],
   "source": [
    "TARGET = \"/Users/damoncrockett/Desktop/cities_20k/viz/city-tag/\""
   ]
  },
  {
   "cell_type": "code",
   "execution_count": 305,
   "metadata": {
    "collapsed": false
   },
   "outputs": [],
   "source": [
    "cities = ['bangkok', 'berlin', 'moscow', 'sao', 'tokyo']"
   ]
  },
  {
   "cell_type": "code",
   "execution_count": 306,
   "metadata": {
    "collapsed": true
   },
   "outputs": [],
   "source": [
    "from shapely.geometry import Point\n",
    "from PIL import Image"
   ]
  },
  {
   "cell_type": "code",
   "execution_count": 307,
   "metadata": {
    "collapsed": true
   },
   "outputs": [],
   "source": [
    "thumb_side = 64"
   ]
  },
  {
   "cell_type": "code",
   "execution_count": 308,
   "metadata": {
    "collapsed": true
   },
   "outputs": [],
   "source": [
    "n = len(df)"
   ]
  },
  {
   "cell_type": "code",
   "execution_count": 309,
   "metadata": {
    "collapsed": false
   },
   "outputs": [],
   "source": [
    "for i in range(n):\n",
    "    tag = df.tag.loc[i]\n",
    "    tag_subset = sub[sub[tag] >= 0.8]\n",
    "    for feat in df.feats.loc[i]:\n",
    "        feat_subset = tag_subset[[feat,'IG_city_name','local_path']]\n",
    "        max_count = 0\n",
    "        for city in cities:\n",
    "            tmp = feat_subset[feat_subset.IG_city_name==city]\n",
    "            if len(tmp) > max_count:\n",
    "                max_count = len(tmp)\n",
    "        entourage_side = int(round(np.sqrt(max_count)))\n",
    "        h = entourage_side + 4\n",
    "        w = entourage_side * 5 + 4\n",
    "        \n",
    "        x,y = range(w) * h, np.repeat(range(h),w)\n",
    "        grid_list = pd.DataFrame(x,columns=['x'])\n",
    "        grid_list['y'] = y\n",
    "        \n",
    "        point = []\n",
    "        m = len(grid_list.index)\n",
    "        for i in range(m):\n",
    "            point.append(Point(grid_list.x.loc[i],grid_list.y.loc[i]))\n",
    "        grid_list['point'] = point\n",
    "        open_grid = list(grid_list.point)\n",
    "        \n",
    "        exemplar_h = int(round(h/2))\n",
    "        moscow = int(round(w/2))\n",
    "        berlin = moscow - entourage_side\n",
    "        bangkok = berlin - entourage_side\n",
    "        sao = moscow + entourage_side\n",
    "        tokyo = sao + entourage_side\n",
    "        \n",
    "        d = {\n",
    "        'moscow':int(round(w/2)),\n",
    "        'berlin':moscow - entourage_side,\n",
    "        'bangkok':berlin - entourage_side,\n",
    "        'sao':moscow + entourage_side,\n",
    "        'tokyo':sao + entourage_side\n",
    "        }\n",
    "        \n",
    "        canvas = Image.new('RGB',(w * thumb_side, h * thumb_side),(50,50,50))\n",
    "\n",
    "        for city in cities:\n",
    "            exemplar = Point(d[city],exemplar_h)\n",
    "            city_df = feat_subset[feat_subset.IG_city_name==city]\n",
    "            city_df.sort(feat,inplace=True,ascending=False)\n",
    "            city_df.reset_index(drop=True,inplace=True)\n",
    "            im = Image.open(city_df.local_path.loc[0])\n",
    "            im.thumbnail((thumb_side,thumb_side),Image.ANTIALIAS)\n",
    "            x = int(exemplar.x) * thumb_side\n",
    "            y = int(exemplar.y) * thumb_side\n",
    "            canvas.paste(im,(x,y))\n",
    "            open_grid.remove(exemplar)\n",
    "            \n",
    "            for i in range(1,len(city_df)):\n",
    "                im = Image.open(city_df.local_path.loc[i])\n",
    "                im.thumbnail((thumb_side,thumb_side),Image.ANTIALIAS)\n",
    "                closest_open = min(open_grid,key=lambda x: exemplar.distance(x))\n",
    "                x = int(closest_open.x) * thumb_side\n",
    "                y = int(closest_open.y) * thumb_side\n",
    "                canvas.paste(im,(x,y))\n",
    "                open_grid.remove(closest_open)\n",
    "        canvas.save(TARGET+tag+\"_\"+feat+\".png\")"
   ]
  },
  {
   "cell_type": "code",
   "execution_count": null,
   "metadata": {
    "collapsed": true
   },
   "outputs": [],
   "source": []
  }
 ],
 "metadata": {
  "kernelspec": {
   "display_name": "Python 2",
   "language": "python",
   "name": "python2"
  },
  "language_info": {
   "codemirror_mode": {
    "name": "ipython",
    "version": 2
   },
   "file_extension": ".py",
   "mimetype": "text/x-python",
   "name": "python",
   "nbconvert_exporter": "python",
   "pygments_lexer": "ipython2",
   "version": "2.7.10"
  }
 },
 "nbformat": 4,
 "nbformat_minor": 0
}
