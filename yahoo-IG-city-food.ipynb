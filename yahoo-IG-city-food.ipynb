{
 "cells": [
  {
   "cell_type": "code",
   "execution_count": 1,
   "metadata": {
    "collapsed": true
   },
   "outputs": [],
   "source": [
    "import pandas as pd\n",
    "import os"
   ]
  },
  {
   "cell_type": "markdown",
   "metadata": {},
   "source": [
    "#### Add local paths to cluster data"
   ]
  },
  {
   "cell_type": "code",
   "execution_count": 2,
   "metadata": {
    "collapsed": true
   },
   "outputs": [],
   "source": [
    "PRE = \"/Users/damoncrockett/Desktop/cities_20k/\""
   ]
  },
  {
   "cell_type": "code",
   "execution_count": 3,
   "metadata": {
    "collapsed": true
   },
   "outputs": [],
   "source": [
    "DB = \"/Users/damoncrockett/Desktop/cities_20k/yahoo/NEW_Clusters/Clusters_Normalized/Normalized_Cluster_Labels/\""
   ]
  },
  {
   "cell_type": "code",
   "execution_count": 4,
   "metadata": {
    "collapsed": false
   },
   "outputs": [],
   "source": [
    "data_files = []\n",
    "for root,dirs,files in os.walk(DB):\n",
    "    for name in files:\n",
    "        data_files.append(os.path.join(root,name))"
   ]
  },
  {
   "cell_type": "code",
   "execution_count": 5,
   "metadata": {
    "collapsed": true
   },
   "outputs": [],
   "source": [
    "# takes a few minutes to run\n",
    "\n",
    "for item in data_files:\n",
    "    tmp = pd.read_csv(item)\n",
    "    n = len(tmp.index)\n",
    "    local_path = []\n",
    "    for i in range(n):\n",
    "        local_path.append(PRE+tmp.city.loc[i]+\"_20k/\"+tmp.image_id.loc[i]+\".jpg\")\n",
    "    tmp['local_path'] = local_path\n",
    "    tmp.to_csv(item,index=False)"
   ]
  },
  {
   "cell_type": "markdown",
   "metadata": {},
   "source": [
    "#### plan histograms"
   ]
  },
  {
   "cell_type": "code",
   "execution_count": 6,
   "metadata": {
    "collapsed": true
   },
   "outputs": [],
   "source": [
    "import glob\n",
    "from PIL import Image"
   ]
  },
  {
   "cell_type": "markdown",
   "metadata": {},
   "source": [
    "#### now 50x50"
   ]
  },
  {
   "cell_type": "code",
   "execution_count": 7,
   "metadata": {
    "collapsed": true
   },
   "outputs": [],
   "source": [
    "num_clusters = 50"
   ]
  },
  {
   "cell_type": "code",
   "execution_count": 8,
   "metadata": {
    "collapsed": true
   },
   "outputs": [],
   "source": [
    "thumb_side = 64"
   ]
  },
  {
   "cell_type": "code",
   "execution_count": 9,
   "metadata": {
    "collapsed": true
   },
   "outputs": [],
   "source": [
    "DIR = DB+\"50/\""
   ]
  },
  {
   "cell_type": "code",
   "execution_count": 10,
   "metadata": {
    "collapsed": true
   },
   "outputs": [],
   "source": [
    "df = pd.read_csv(DIR+\"food_drinks_meals.csv\")\n",
    "cities = list(set(list(df.city)))"
   ]
  },
  {
   "cell_type": "code",
   "execution_count": 11,
   "metadata": {
    "collapsed": false
   },
   "outputs": [],
   "source": [
    "for city in cities:\n",
    "    outfile = PRE+\"viz/normalized_city_food_50/\"+city+\".png\"\n",
    "    # select rows of df in bin\n",
    "    tmp = df[df.city==city]\n",
    "    bin_max = tmp.groupby('cluster_id').size().max()\n",
    "\n",
    "    # reset index because we'll use the index in a loop\n",
    "    tmp.reset_index(drop=True,inplace=True)\n",
    "\n",
    "    # create canvas\n",
    "    px_w = num_clusters * thumb_side\n",
    "    px_h = bin_max * thumb_side\n",
    "    canvas = Image.new('RGB',(px_w,px_h),(50,50,50))\n",
    "    \n",
    "    # make bin list\n",
    "    bins = list(set(list(tmp.cluster_id)))\n",
    "    for item in bins:\n",
    "        # define x and y coordinates for pasting\n",
    "        y_coord = px_h - thumb_side\n",
    "        x_coord = thumb_side * (item - 1)\n",
    "\n",
    "        # subset tmp\n",
    "        subset = tmp[tmp.cluster_id==item]\n",
    "        subset.reset_index(drop=True,inplace=True)\n",
    "        \n",
    "        # loop over rows in subset\n",
    "        n = len(subset.index)\n",
    "        for i in range(n):\n",
    "            thumb = Image.open(subset.local_path.loc[i])\n",
    "            thumb.thumbnail((thumb_side,thumb_side),Image.ANTIALIAS)\n",
    "            canvas.paste(thumb,(x_coord,y_coord))\n",
    "            y_coord = y_coord - thumb_side\n",
    "    \n",
    "    canvas.save(outfile)"
   ]
  },
  {
   "cell_type": "code",
   "execution_count": null,
   "metadata": {
    "collapsed": true
   },
   "outputs": [],
   "source": []
  }
 ],
 "metadata": {
  "kernelspec": {
   "display_name": "Python 2",
   "language": "python",
   "name": "python2"
  },
  "language_info": {
   "codemirror_mode": {
    "name": "ipython",
    "version": 2
   },
   "file_extension": ".py",
   "mimetype": "text/x-python",
   "name": "python",
   "nbconvert_exporter": "python",
   "pygments_lexer": "ipython2",
   "version": "2.7.6"
  }
 },
 "nbformat": 4,
 "nbformat_minor": 0
}
