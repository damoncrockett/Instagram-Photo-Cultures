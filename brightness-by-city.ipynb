{
 "cells": [
  {
   "cell_type": "code",
   "execution_count": 1,
   "metadata": {
    "collapsed": true
   },
   "outputs": [],
   "source": [
    "TARGET = \"/Users/damoncrockett/Desktop/TVCG/\""
   ]
  },
  {
   "cell_type": "code",
   "execution_count": 2,
   "metadata": {
    "collapsed": true
   },
   "outputs": [],
   "source": [
    "import pandas as pd\n",
    "import numpy as np"
   ]
  },
  {
   "cell_type": "code",
   "execution_count": 3,
   "metadata": {
    "collapsed": true
   },
   "outputs": [],
   "source": [
    "df = pd.read_csv(\"./all.csv\")"
   ]
  },
  {
   "cell_type": "code",
   "execution_count": 4,
   "metadata": {
    "collapsed": false
   },
   "outputs": [],
   "source": [
    "df = df[['local_path','IG_city_name','Mean Saturation','Mean Brightness','Exposure Balance','Uniqueness']]"
   ]
  },
  {
   "cell_type": "code",
   "execution_count": 5,
   "metadata": {
    "collapsed": false
   },
   "outputs": [],
   "source": [
    "df = df[df.Uniqueness.notnull()]"
   ]
  },
  {
   "cell_type": "code",
   "execution_count": 6,
   "metadata": {
    "collapsed": false
   },
   "outputs": [],
   "source": [
    "df.reset_index(drop=True,inplace=True)"
   ]
  },
  {
   "cell_type": "code",
   "execution_count": 7,
   "metadata": {
    "collapsed": false
   },
   "outputs": [
    {
     "name": "stdout",
     "output_type": "stream",
     "text": [
      "<class 'pandas.core.frame.DataFrame'>\n",
      "Int64Index: 99999 entries, 0 to 99998\n",
      "Data columns (total 6 columns):\n",
      "local_path          99999 non-null object\n",
      "IG_city_name        99999 non-null object\n",
      "Mean Saturation     99999 non-null float64\n",
      "Mean Brightness     99999 non-null float64\n",
      "Exposure Balance    99999 non-null float64\n",
      "Uniqueness          99999 non-null float64\n",
      "dtypes: float64(4), object(2)\n",
      "memory usage: 5.3+ MB\n"
     ]
    }
   ],
   "source": [
    "df.info()"
   ]
  },
  {
   "cell_type": "code",
   "execution_count": 8,
   "metadata": {
    "collapsed": false
   },
   "outputs": [],
   "source": [
    "cities = ['bangkok', 'berlin', 'moscow', 'sao', 'tokyo']"
   ]
  },
  {
   "cell_type": "code",
   "execution_count": 21,
   "metadata": {
    "collapsed": false
   },
   "outputs": [],
   "source": [
    "features = list(df.columns)[2:]"
   ]
  },
  {
   "cell_type": "code",
   "execution_count": 22,
   "metadata": {
    "collapsed": true
   },
   "outputs": [],
   "source": [
    "from shapely.geometry import Point\n",
    "from PIL import Image"
   ]
  },
  {
   "cell_type": "code",
   "execution_count": 33,
   "metadata": {
    "collapsed": true
   },
   "outputs": [],
   "source": [
    "thumb_side = 100"
   ]
  },
  {
   "cell_type": "code",
   "execution_count": 34,
   "metadata": {
    "collapsed": true
   },
   "outputs": [],
   "source": [
    "sample_size = 1000"
   ]
  },
  {
   "cell_type": "code",
   "execution_count": 35,
   "metadata": {
    "collapsed": true
   },
   "outputs": [],
   "source": [
    "plot_wide = 180\n",
    "plot_tall = 36"
   ]
  },
  {
   "cell_type": "code",
   "execution_count": 36,
   "metadata": {
    "collapsed": true
   },
   "outputs": [],
   "source": [
    "px_w = plot_wide * thumb_side\n",
    "px_h = plot_tall * thumb_side"
   ]
  },
  {
   "cell_type": "code",
   "execution_count": 37,
   "metadata": {
    "collapsed": false
   },
   "outputs": [],
   "source": [
    "exemplar_h = int(round(plot_tall/2))\n",
    "moscow = int(round(plot_wide/2))\n",
    "berlin = moscow - plot_tall\n",
    "bangkok = berlin - plot_tall\n",
    "sao = moscow + plot_tall\n",
    "tokyo = sao + plot_tall\n",
    "        \n",
    "d = {\n",
    "'moscow':int(round(plot_wide/2)),\n",
    "'berlin':moscow - plot_tall,\n",
    "'bangkok':berlin - plot_tall,\n",
    "'sao':moscow + plot_tall,\n",
    "'tokyo':sao + plot_tall\n",
    "}"
   ]
  },
  {
   "cell_type": "code",
   "execution_count": 38,
   "metadata": {
    "collapsed": false
   },
   "outputs": [
    {
     "name": "stdout",
     "output_type": "stream",
     "text": [
      "bangkok\n",
      "berlin\n",
      "moscow\n",
      "sao\n",
      "tokyo\n",
      "bangkok\n",
      "berlin\n",
      "moscow\n",
      "sao\n",
      "tokyo\n",
      "bangkok\n",
      "berlin\n",
      "moscow\n",
      "sao\n",
      "tokyo\n",
      "bangkok\n",
      "berlin\n",
      "moscow\n",
      "sao\n",
      "tokyo\n"
     ]
    }
   ],
   "source": [
    "for feature in features:\n",
    "    x,y = range(plot_wide) * plot_tall, np.repeat(range(plot_tall),plot_wide)\n",
    "    grid_list = pd.DataFrame(x,columns=['x'])\n",
    "    grid_list['y'] = y\n",
    "        \n",
    "    point = []\n",
    "    m = len(grid_list.index)\n",
    "    for i in range(m):\n",
    "        point.append(Point(grid_list.x.loc[i],grid_list.y.loc[i]))\n",
    "    grid_list['point'] = point\n",
    "    open_grid = list(grid_list.point)\n",
    "        \n",
    "    canvas = Image.new('RGB',(px_w, px_h),(50,50,50))\n",
    "    \n",
    "    for city in cities:\n",
    "        tmp = df[df.IG_city_name==city]\n",
    "        tmp = tmp.sample(n=sample_size)\n",
    "        tmp.sort(feature,inplace=True)\n",
    "        tmp.reset_index(drop=True,inplace=True)\n",
    "        \n",
    "        exemplar = Point(d[city],exemplar_h)\n",
    "        im = Image.open(tmp.local_path.loc[0])\n",
    "        im.thumbnail((thumb_side,thumb_side),Image.ANTIALIAS)\n",
    "        x = int(exemplar.x) * thumb_side\n",
    "        y = int(exemplar.y) * thumb_side\n",
    "        canvas.paste(im,(x,y))\n",
    "        open_grid.remove(exemplar)\n",
    "            \n",
    "        for i in range(1,len(tmp)):\n",
    "            im = Image.open(tmp.local_path.loc[i])\n",
    "            im.thumbnail((thumb_side,thumb_side),Image.ANTIALIAS)\n",
    "            closest_open = min(open_grid,key=lambda x: exemplar.distance(x))\n",
    "            x = int(closest_open.x) * thumb_side\n",
    "            y = int(closest_open.y) * thumb_side\n",
    "            canvas.paste(im,(x,y))\n",
    "            open_grid.remove(closest_open)\n",
    "        \n",
    "        print city\n",
    "    \n",
    "    canvas.save(TARGET+feature+\".png\")"
   ]
  },
  {
   "cell_type": "code",
   "execution_count": null,
   "metadata": {
    "collapsed": true
   },
   "outputs": [],
   "source": []
  }
 ],
 "metadata": {
  "kernelspec": {
   "display_name": "Python 2",
   "language": "python",
   "name": "python2"
  },
  "language_info": {
   "codemirror_mode": {
    "name": "ipython",
    "version": 2
   },
   "file_extension": ".py",
   "mimetype": "text/x-python",
   "name": "python",
   "nbconvert_exporter": "python",
   "pygments_lexer": "ipython2",
   "version": "2.7.10"
  }
 },
 "nbformat": 4,
 "nbformat_minor": 0
}
