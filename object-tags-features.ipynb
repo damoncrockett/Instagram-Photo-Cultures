{
 "cells": [
  {
   "cell_type": "code",
   "execution_count": null,
   "metadata": {
    "collapsed": true
   },
   "outputs": [],
   "source": [
    "import pandas as pd\n",
    "import numpy as np"
   ]
  },
  {
   "cell_type": "code",
   "execution_count": null,
   "metadata": {
    "collapsed": true
   },
   "outputs": [],
   "source": [
    "df = pd.read_csv(\"./all.csv\")"
   ]
  },
  {
   "cell_type": "code",
   "execution_count": null,
   "metadata": {
    "collapsed": false
   },
   "outputs": [],
   "source": [
    "d = df.iloc[:,55:]"
   ]
  },
  {
   "cell_type": "code",
   "execution_count": null,
   "metadata": {
    "collapsed": false
   },
   "outputs": [],
   "source": [
    "DIR = \"/Users/damoncrockett/Desktop/cities_20k/viz/tags/single/\""
   ]
  },
  {
   "cell_type": "code",
   "execution_count": null,
   "metadata": {
    "collapsed": true
   },
   "outputs": [],
   "source": [
    "from shapely.geometry import Point\n",
    "from PIL import Image"
   ]
  },
  {
   "cell_type": "code",
   "execution_count": null,
   "metadata": {
    "collapsed": true
   },
   "outputs": [],
   "source": [
    "thumb_side = 150"
   ]
  },
  {
   "cell_type": "code",
   "execution_count": null,
   "metadata": {
    "collapsed": false
   },
   "outputs": [],
   "source": [
    "'''\n",
    "for column in d.columns[d.columns != 'local_path']:\n",
    "    hits = d[[column,'local_path']][d[column] > 0.7]\n",
    "    hits.sort(column,inplace=True,ascending=False)\n",
    "    hits.reset_index(drop=True,inplace=True)\n",
    "    n = len(hits.index)\n",
    "    if 9 < n < 1001:\n",
    "        side = int(round(np.sqrt(n))) + 4\n",
    "        canvas = Image.new('RGB',(side * thumb_side, side * thumb_side),(50,50,50))\n",
    "        x,y = range(side) * side, np.repeat(range(side),side)\n",
    "        grid_list = pd.DataFrame(x,columns=['x'])\n",
    "        grid_list['y'] = y\n",
    "        \n",
    "        point = []\n",
    "        m = len(grid_list.index)\n",
    "        for i in range(m):\n",
    "            point.append(Point(grid_list.x.loc[i],grid_list.y.loc[i]))\n",
    "        grid_list['point'] = point\n",
    "        open_grid = list(grid_list.point)\n",
    "        \n",
    "        exemplar = Point(int(round(side/2)),int(round(side/2)))\n",
    "        im = Image.open(hits.local_path.loc[0])\n",
    "        im.thumbnail((thumb_side,thumb_side),Image.ANTIALIAS)\n",
    "        x = int(exemplar.x) * thumb_side\n",
    "        y = int(exemplar.y) * thumb_side\n",
    "        canvas.paste(im,(x,y))\n",
    "        open_grid.remove(exemplar)\n",
    "        \n",
    "        for i in range(1,n):\n",
    "            im = Image.open(hits.local_path.loc[i])\n",
    "            im.thumbnail((thumb_side,thumb_side),Image.ANTIALIAS)\n",
    "            closest_open = min(open_grid,key=lambda x: exemplar.distance(x))\n",
    "            x = int(closest_open.x) * thumb_side\n",
    "            y = int(closest_open.y) * thumb_side\n",
    "            canvas.paste(im,(x,y))\n",
    "            open_grid.remove(closest_open)\n",
    "        canvas.save(DIR+column+\".png\")\n",
    "'''"
   ]
  },
  {
   "cell_type": "code",
   "execution_count": null,
   "metadata": {
    "collapsed": true
   },
   "outputs": [],
   "source": [
    "FOLDER = \"/Users/damoncrockett/Desktop/cities_20k/viz/tmp_smpl/\""
   ]
  },
  {
   "cell_type": "code",
   "execution_count": null,
   "metadata": {
    "collapsed": false
   },
   "outputs": [],
   "source": [
    "m = len(df)\n",
    "q = m/100\n",
    "a = 100\n",
    "b = 1\n",
    "sample_weights = list(np.repeat(a,q)) + list(np.repeat(b,m-q))"
   ]
  },
  {
   "cell_type": "code",
   "execution_count": null,
   "metadata": {
    "collapsed": false
   },
   "outputs": [],
   "source": [
    "for column in df.columns[1:55]:\n",
    "    hits = df[[column,'local_path']]\n",
    "    hits.sort(column,inplace=True,ascending=False)\n",
    "    hits.reset_index(drop=True,inplace=True)\n",
    "    hits = hits.sample(n=200,weights=sample_weights)\n",
    "    hits.sort(column,inplace=True,ascending=False)\n",
    "    hits.reset_index(drop=True,inplace=True)\n",
    "    n = len(hits.index)\n",
    "    if 199 < n:\n",
    "        side = int(round(np.sqrt(n))) + 4\n",
    "        canvas = Image.new('RGB',(side * thumb_side, side * thumb_side),(50,50,50))\n",
    "        x,y = range(side) * side, np.repeat(range(side),side)\n",
    "        grid_list = pd.DataFrame(x,columns=['x'])\n",
    "        grid_list['y'] = y\n",
    "        \n",
    "        point = []\n",
    "        m = len(grid_list.index)\n",
    "        for i in range(m):\n",
    "            point.append(Point(grid_list.x.loc[i],grid_list.y.loc[i]))\n",
    "        grid_list['point'] = point\n",
    "        open_grid = list(grid_list.point)\n",
    "        \n",
    "        exemplar = Point(int(round(side/2)),int(round(side/2)))\n",
    "        im = Image.open(hits.local_path.loc[0])\n",
    "        #im.thumbnail((thumb_side,thumb_side),Image.ANTIALIAS)\n",
    "        x = int(exemplar.x) * thumb_side\n",
    "        y = int(exemplar.y) * thumb_side\n",
    "        canvas.paste(im,(x,y))\n",
    "        open_grid.remove(exemplar)\n",
    "        \n",
    "        for i in range(1,n):\n",
    "            im = Image.open(hits.local_path.loc[i])\n",
    "            #im.thumbnail((thumb_side,thumb_side),Image.ANTIALIAS)\n",
    "            closest_open = min(open_grid,key=lambda x: exemplar.distance(x))\n",
    "            x = int(closest_open.x) * thumb_side\n",
    "            y = int(closest_open.y) * thumb_side\n",
    "            canvas.paste(im,(x,y))\n",
    "            open_grid.remove(closest_open)\n",
    "        canvas.save(FOLDER+str(a)+column.translate(None,\"/\")+\".png\")"
   ]
  },
  {
   "cell_type": "code",
   "execution_count": null,
   "metadata": {
    "collapsed": true
   },
   "outputs": [],
   "source": []
  }
 ],
 "metadata": {
  "kernelspec": {
   "display_name": "Python 2",
   "language": "python",
   "name": "python2"
  },
  "language_info": {
   "codemirror_mode": {
    "name": "ipython",
    "version": 2
   },
   "file_extension": ".py",
   "mimetype": "text/x-python",
   "name": "python",
   "nbconvert_exporter": "python",
   "pygments_lexer": "ipython2",
   "version": "2.7.10"
  }
 },
 "nbformat": 4,
 "nbformat_minor": 0
}
